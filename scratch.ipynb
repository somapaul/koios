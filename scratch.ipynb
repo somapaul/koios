{
 "cells": [
  {
   "cell_type": "code",
   "execution_count": 1,
   "metadata": {},
   "outputs": [],
   "source": [
    "import perceptron as p\n",
    "import numpy as np\n",
    "model = p.Perceptron()"
   ]
  },
  {
   "cell_type": "code",
   "execution_count": 2,
   "metadata": {},
   "outputs": [],
   "source": [
    "\n",
    "rnd_x = np.array([[0,1,1],\\\n",
    "                  [0.6,0.6,1],\\\n",
    "                  [1,0,1],\\\n",
    "                  [1,1,1],\\\n",
    "                  [0.3,0.4,1],\\\n",
    "                  [0.2,0.3,1],\\\n",
    "                  [0.1,0.4,1],\\\n",
    "                  [0.5,-0.1,1]])\n",
    "\n",
    "rnd_y = np.array([1,1,1,1,-1,-1,-1,-1])\n",
    "rnd_data = [rnd_x,rnd_y]\n"
   ]
  },
  {
   "cell_type": "code",
   "execution_count": 5,
   "metadata": {},
   "outputs": [],
   "source": [
    "model.train_perceptron(rnd_x,rnd_y,max_itr=1000)"
   ]
  },
  {
   "cell_type": "code",
   "execution_count": 6,
   "metadata": {},
   "outputs": [
    {
     "data": {
      "text/plain": [
       "array([ 0.96517574,  1.09490887, -0.83358975])"
      ]
     },
     "execution_count": 6,
     "metadata": {},
     "output_type": "execute_result"
    }
   ],
   "source": [
    "model.fit()"
   ]
  },
  {
   "cell_type": "code",
   "execution_count": null,
   "metadata": {},
   "outputs": [],
   "source": []
  }
 ],
 "metadata": {
  "kernelspec": {
   "display_name": "Python 3",
   "language": "python",
   "name": "python3"
  },
  "language_info": {
   "codemirror_mode": {
    "name": "ipython",
    "version": 3
   },
   "file_extension": ".py",
   "mimetype": "text/x-python",
   "name": "python",
   "nbconvert_exporter": "python",
   "pygments_lexer": "ipython3",
   "version": "3.6.5"
  }
 },
 "nbformat": 4,
 "nbformat_minor": 2
}
